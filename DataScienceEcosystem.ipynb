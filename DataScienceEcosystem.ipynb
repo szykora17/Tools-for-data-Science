{
 "cells": [
  {
   "cell_type": "markdown",
   "id": "0e80ffee-d038-4e8b-9743-41042852d303",
   "metadata": {},
   "source": [
    "# Data Science Tools and Ecosystem"
   ]
  },
  {
   "cell_type": "markdown",
   "id": "6f60e076-57d6-4550-a890-70f53f2ed481",
   "metadata": {},
   "source": [
    "In this notebook, Data Science Tools and Ecosystem are summarized."
   ]
  },
  {
   "cell_type": "markdown",
   "id": "89d95be2-957d-45dd-afff-6ba2e15d588f",
   "metadata": {},
   "source": [
    "**Objectives:**\n",
    "- List popular languages for Data Science\n",
    "- List of commonly used libraries used by Daa Scientists\n",
    "- Data Science Tools\n",
    "- A few examples of evaluating arithmetic expressions in Python"
   ]
  },
  {
   "cell_type": "markdown",
   "id": "ff14084f-79c3-4734-a36b-4d8ed2aa9bdf",
   "metadata": {},
   "source": [
    "Some of the popular languages that Data Scientists use are:\n",
    "\n",
    "1. Python\n",
    "2. R\n",
    "3. Ruby"
   ]
  },
  {
   "cell_type": "markdown",
   "id": "536504eb-1c40-4c15-a55c-ce3eea2641ed",
   "metadata": {},
   "source": [
    "Some of the commonly used libraries used by Data Scientists include:\n",
    "\n",
    "1. Matplotlib\n",
    "2. ggplot\n",
    "3. caret\n",
    "4. numpy"
   ]
  },
  {
   "cell_type": "markdown",
   "id": "28ceec52-2842-464a-ae0c-72d639ff6918",
   "metadata": {},
   "source": [
    "| Data Since Tools |\n",
    "| ---------------- |\n",
    "| Apache Spark |\n",
    "| Apache Hadoop |\n",
    "| Jupyter |\n",
    "| RStudio |\n",
    "\n"
   ]
  },
  {
   "cell_type": "markdown",
   "id": "c0b81d1e-d317-426c-bf57-e4519a7c48a0",
   "metadata": {},
   "source": [
    "### Below are a few examples of evaluating arithmetic expressions in Python"
   ]
  },
  {
   "cell_type": "code",
   "execution_count": 2,
   "id": "27181ba4-d476-4e1f-978c-51dfd9a25191",
   "metadata": {},
   "outputs": [
    {
     "data": {
      "text/plain": [
       "17"
      ]
     },
     "execution_count": 2,
     "metadata": {},
     "output_type": "execute_result"
    }
   ],
   "source": [
    "#This a simple arithmetic expression to mutiply then add integers\n",
    "(3*4)+5"
   ]
  },
  {
   "cell_type": "code",
   "execution_count": 10,
   "id": "3676e810-2746-40b2-ba4e-d2c0007ddb26",
   "metadata": {},
   "outputs": [
    {
     "name": "stdout",
     "output_type": "stream",
     "text": [
      "200 minutes is 3.3333333333333335 hours\n"
     ]
    }
   ],
   "source": [
    "#This will convert 200 minutes to hours by diving by 60\n",
    "\n",
    "print ( \"200 minutes is \"+ str(200/60) + \" hours\")\n"
   ]
  },
  {
   "cell_type": "markdown",
   "id": "c28f5909-db4e-4adc-ac05-55628a9c7e60",
   "metadata": {},
   "source": [
    "## Author\n",
    "Bence Szikora"
   ]
  }
 ],
 "metadata": {
  "kernelspec": {
   "display_name": "Python 3 (ipykernel)",
   "language": "python",
   "name": "python3"
  },
  "language_info": {
   "codemirror_mode": {
    "name": "ipython",
    "version": 3
   },
   "file_extension": ".py",
   "mimetype": "text/x-python",
   "name": "python",
   "nbconvert_exporter": "python",
   "pygments_lexer": "ipython3",
   "version": "3.13.2"
  }
 },
 "nbformat": 4,
 "nbformat_minor": 5
}
